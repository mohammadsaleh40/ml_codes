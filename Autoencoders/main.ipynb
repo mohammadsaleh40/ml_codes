{
 "cells": [
  {
   "cell_type": "markdown",
   "id": "80d790f2",
   "metadata": {},
   "source": [
    "# Auto Encoder\n",
    "<p dir=\"rtl\">\n",
    "در اینجا می‌خواهیم در ارتباط با Auto Encoder صحبت کنیم. اتو انکودر یک معماری مقدماتی در شبکه‌های عصبی است که از دو بخش Encoder و Decoder تشکیل شده است.\n",
    "</p>"
   ]
  },
  {
   "cell_type": "markdown",
   "id": "d6c3acc6",
   "metadata": {},
   "source": [
    "<p dir=\"rtl\">\n",
    "در تصویر زیر ساختار کلی شبکه عصبی Autoencoder رو می‌بینین.\n",
    "</p>"
   ]
  },
  {
   "cell_type": "markdown",
   "id": "355711e9",
   "metadata": {},
   "source": [
    "![ساختار شبکه عصبی](nn.svg)"
   ]
  },
  {
   "cell_type": "markdown",
   "id": "628f9e8b",
   "metadata": {},
   "source": [
    "\n",
    "\n",
    "<p dir=\"rtl\">\n",
    "اینجا اهمیتی نداره که گره‌های شبکه عصبی ما نورون ساده باشن یا شبکه عصبی ما از لایه‌های کانولوشنال تشکیل شده باشه. چیزی که اهمیت داره اینه که یک لایه اون وسط باشه که از لحاظ بعد از لایه ورودی کم بعد تر باشه و لایه خروجی هم دقیقا هم بعد لایه ورودی باشه.\n",
    "</p>\n",
    "<h2 dir=\"rtl\">کاهش بُعد</h2>\n",
    "<p dir=\"rtl\">\n",
    "این مدل وظیفه اصلی که داره کاهش بعد هست. و در صورتی که در بین توابع فعال سازش تماما از تواببع خطی استفاده کنه و برای تابع هزینه هم از میانگین مربعات خطا استفاده کنه، دقیقا مثل PCA(Priincipal Component Analysis) عمل می‌کنه و روابط غیر خطی رو نمی‌تونه تشخیص بده.\n",
    "</p>"
   ]
  },
  {
   "cell_type": "markdown",
   "id": "1495a323",
   "metadata": {},
   "source": [
    "<h2 dir=\"rtl\">ورودی و خروجی</h2>\n",
    "<p dir=\"rtl\">\n",
    "این مدل جزء مدل‌های بدون نظارت هستش. یعنی ما نیازی به لیبل گذاری نداریم. همون داده‌های ورودی رو از خروجی تحویل می‌گیریم. با توجه به کاربری و نیازی که داریم گاهی اوقات ورودی و خروجی رو نویزی می‌کنیم ولی داده جدید یا لیبلی در کار نیست.\n",
    "</p>"
   ]
  },
  {
   "cell_type": "markdown",
   "id": "ab2dd7aa",
   "metadata": {},
   "source": [
    "<h2 dir=\"rtl\">فرمول نویسی مراحل اتو انکودر</h2>\n",
    "<p dir=\"rtl\">\n",
    "اگر بخواهیم مراحلی که داده از ورودی شروع می‌کند و تا خروجی پیش می‌رود را فرموله کنیم به این شکل می‌توانیم قرارداد کنیم.\n",
    "</p>\n",
    "<p dir=\"rtl\">\n",
    "مجموعه داده:\n",
    "</p>\n",
    "\n",
    "$$D = \\{x_1, x_2, ..., x_n\\}$$\n",
    "\n",
    "<p dir=\"rtl\">\n",
    "خروجی بخش encoder را به این شکل نمایش می‌دیم:\n",
    "</p>\n",
    "\n",
    "$$\n",
    "f(x)\n",
    "$$\n",
    "\n",
    "<p dir=\"rtl\">\n",
    "تابع بخش decoder هم اگر به شکل تابع g نمایش بدیم.\n",
    "</p>\n",
    "\n",
    "$$\n",
    "g(f(x))\n",
    "$$\n",
    "\n",
    "<p dir=\"rtl\">\n",
    "نمایش کل مدل Autoencoder ما خواهد بود.\n",
    "</p>"
   ]
  },
  {
   "cell_type": "markdown",
   "id": "786fe17d",
   "metadata": {},
   "source": [
    "<h2 dir=\"rtl\">تابع ضرر</h2>\n",
    "<p dir=\"rtl\">\n",
    "همون طور که گفتیم این مدل دقیقا همونی که در ورودی گرفته رو در خروجی باید تحویل بده و در نتیجه تابع ضرر ما هم به شکل مقایسه خروجی مدل با همون x مورد نظر ما هستش.\n",
    "</p>\n",
    "\n",
    "$$\n",
    "\\Delta(x_i, \\tilde{x}_i)\n",
    "$$\n"
   ]
  },
  {
   "cell_type": "markdown",
   "id": "207eb80f",
   "metadata": {},
   "source": [
    "<h3 dir=\"rtl\">جلوگیری از تبدیل شدن به تابع یک به یک</h3>\n",
    "<p dir=\"rtl\">\n",
    "بعضی وقت‌ها ما نیاز داریم که این ساختار نهایی مدل علاوه بر این که بخش Encoder برای ما کاهش بعد انجام می‌دهد با همکاری با بخش Decoder بتواند کاهش نویز انجام دهد. یعنی بخش Encoder واقعا فقط داده‌های مهم را در فضای میانی (Latent space) ذخیره کند و Decoder هم فقط داده‌های مهم را باز سازی کند ولی اگر بر این کار نظارت خاصی نکنیم ممکن است Encoder تمام اطلاعات را به نحوی در فضای میانی فشرده سازی کند و مدل تبدیل شود به یک تابع همانی که دقیقا هر چیزی چه داده نویز دار چه بدون نویز در ورودی دریافت کند همان را در خروجی به ما تحویل دهد. برای جلوگیری از این کار یک جریمه دیگر نیز تعریف می‌کنیم که از یک دانش پیشین کمک بگیرد و بررسی کند فضای میانی (Latent space) درست مقدار دهی می‌شود یا نه؟\n",
    "</p>\n",
    "\n",
    "$$\n",
    "l_{Prior knowledge} = w(f(x_i))\n",
    "$$\n"
   ]
  },
  {
   "cell_type": "markdown",
   "id": "ae74939b",
   "metadata": {},
   "source": [
    "<h2 dir=\"rtl\">تابع هزینه</h2>\n",
    "<p dir=\"rtl\">\n",
    "با ترکیب تابع ضرر قبلی و هزینه‌ای که از اون دانش پیشین بدست می‌یاریم می‌تونیم یک تابع هزینه مناسب بدست بیاریم البته ممکن هست همیشه ما دانش پیشین مناسبی نداشته باشیم به همین خاطر تنظیم تأثیر پذیری اون با ضریبی به نام ترم تنظیم انجام می‌شه.  \n",
    "</p>\n",
    "\n",
    "$$\n",
    "C(x) = \\Delta(x_i, \\tilde{x}_i) + \\lambda \\times w(f(x_i)) \n",
    "$$"
   ]
  },
  {
   "cell_type": "code",
   "execution_count": null,
   "id": "7222f162",
   "metadata": {
    "vscode": {
     "languageId": "plaintext"
    }
   },
   "outputs": [],
   "source": [
    "import numpy as np\n",
    "import matplotlib.pyplot as plt\n",
    "\n",
    "# Define the activation functions\n",
    "def relu(x):\n",
    "    return np.maximum(0, x)\n",
    "\n",
    "def leaky_relu(x, alpha=0.01):\n",
    "    return np.where(x > 0, x, alpha * x)\n",
    "\n",
    "def sigmoid(x):\n",
    "    return 1 / (1 + np.exp(-x))\n",
    "\n",
    "def tanh(x):\n",
    "    return np.tanh(x)\n",
    "\n",
    "def softmax(x):\n",
    "    e_x = np.exp(x - np.max(x))  # for numerical stability\n",
    "    return e_x / np.sum(e_x)\n",
    "\n",
    "def elu(x, alpha=1.0):\n",
    "    return np.where(x > 0, x, alpha * (np.exp(x) - 1))\n",
    "\n",
    "def swish(x):\n",
    "    return x / (1 + np.exp(-x))\n",
    "\n",
    "def gelu(x):\n",
    "    return 0.5 * x * (1 + np.tanh(np.sqrt(2/np.pi) * (x + 0.044715 * np.power(x, 3))))\n",
    "\n",
    "# Generate input data\n",
    "x = np.linspace(-3, 3, 400)\n",
    "\n",
    "# Plotting\n",
    "plt.figure(figsize=(14, 10))\n",
    "\n",
    "plt.subplot(3, 3, 1)\n",
    "plt.plot(x, relu(x))\n",
    "plt.title('ReLU')\n",
    "\n",
    "plt.subplot(3, 3, 2)\n",
    "plt.plot(x, leaky_relu(x))\n",
    "plt.title('Leaky ReLU')\n",
    "\n",
    "plt.subplot(3, 3, 3)\n",
    "plt.plot(x, sigmoid(x))\n",
    "plt.title('Sigmoid')\n",
    "\n",
    "plt.subplot(3, 3, 4)\n",
    "plt.plot(x, tanh(x))\n",
    "plt.title('Tanh')\n",
    "\n",
    "plt.subplot(3, 3, 5)\n",
    "plt.plot(x, softmax(x))\n",
    "plt.title('Softmax')\n",
    "\n",
    "plt.subplot(3, 3, 6)\n",
    "plt.plot(x, elu(x))\n",
    "plt.title('ELU')\n",
    "\n",
    "plt.subplot(3, 3, 7)\n",
    "plt.plot(x, swish(x))\n",
    "plt.title('Swish')\n",
    "\n",
    "plt.subplot(3, 3, 8)\n",
    "plt.plot(x, gelu(x))\n",
    "plt.title('GELU')\n",
    "\n",
    "plt.tight_layout()\n",
    "plt.show()"
   ]
  },
  {
   "cell_type": "code",
   "execution_count": null,
   "id": "d9ba4009",
   "metadata": {
    "vscode": {
     "languageId": "plaintext"
    }
   },
   "outputs": [],
   "source": []
  }
 ],
 "metadata": {
  "language_info": {
   "name": "python"
  }
 },
 "nbformat": 4,
 "nbformat_minor": 5
}
